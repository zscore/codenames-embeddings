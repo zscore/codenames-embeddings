{
 "cells": [
  {
   "cell_type": "code",
   "execution_count": 1,
   "id": "0bc6f8f3-3262-465b-b786-8462ac0890d6",
   "metadata": {},
   "outputs": [],
   "source": [
    "import copy\n",
    "import io\n",
    "import ipywidgets as widgets\n",
    "from ipywidgets import Button, HBox, VBox\n",
    "from IPython.display import display\n",
    "import json\n",
    "import numpy as np\n",
    "import pandas as pd\n",
    "from sklearn.metrics.pairwise import euclidean_distances, cosine_distances\n",
    "import spacy\n",
    "from tqdm.notebook import trange, tqdm"
   ]
  },
  {
   "cell_type": "code",
   "execution_count": 2,
   "id": "bc2f23c4-683d-4e2c-bed7-8d15eb8386f2",
   "metadata": {},
   "outputs": [],
   "source": [
    "nlp = spacy.load(\"en_core_web_sm\")"
   ]
  },
  {
   "cell_type": "code",
   "execution_count": 3,
   "id": "c5503f6a-bef4-4aae-a60c-9d9c81fe40e7",
   "metadata": {},
   "outputs": [],
   "source": [
    "def load_vectors_pd(fname, total_to_load=10000):\n",
    "    fin = io.open(fname, 'r', encoding='utf-8', newline='\\n', errors='ignore')\n",
    "    n, d = map(int, fin.readline().split())\n",
    "    data = {}\n",
    "    index = []\n",
    "    total_loaded = 0\n",
    "    for line in fin:\n",
    "        tokens = line.rstrip().split(' ')\n",
    "        data[tokens[0]] = list(map(float, tokens[1:]))\n",
    "        total_loaded += 1\n",
    "        if total_loaded >= total_to_load:\n",
    "            break\n",
    "    return pd.DataFrame(data)"
   ]
  },
  {
   "cell_type": "code",
   "execution_count": 4,
   "id": "dd780ab2-3718-47fd-bf3e-f2e788656410",
   "metadata": {},
   "outputs": [],
   "source": [
    "DATA_PATH = \"../data/\""
   ]
  },
  {
   "cell_type": "code",
   "execution_count": 5,
   "id": "5d5c62f0-a231-45a6-b734-f9d4d578881e",
   "metadata": {},
   "outputs": [],
   "source": [
    "# type in codenames here\n",
    "\n",
    "red_codenames = ['pit', 'newton', 'elephant', 'sub', 'street', 'model', 'lemon', 'lock']\n",
    "blue_codenames = ['judge', 'paddle', 'volcano', 'bed', 'break', 'driver', 'ram', 'hotel']\n",
    "beige_codenames = ['snow', 'tattoo', 'guitar', 'paint', 'trick', 'walrus', 'hook']\n",
    "black_codenames = [\"squirrel\"]\n",
    "\n",
    "red_codenames = ['fog', 'tornado', 'poison', 'purse', 'night', 'brush', 'aztec', 'blade']\n",
    "blue_codenames = ['crab', 'balloon', 'diamond', 'file', 'state', 'ruler', 'sound', 'dollar', 'drum']\n",
    "beige_codenames = ['shower', 'tea', 'university', 'bomb', 'leather', 'cover', 'tattoo']\n",
    "black_codenames = ['mouse']"
   ]
  },
  {
   "cell_type": "code",
   "execution_count": 6,
   "id": "298783f3-cbd2-4d44-a525-f2bff8cceaea",
   "metadata": {},
   "outputs": [],
   "source": [
    "all_codenames = red_codenames + blue_codenames + beige_codenames + black_codenames"
   ]
  },
  {
   "cell_type": "code",
   "execution_count": 7,
   "id": "84b547dd-8ae6-469f-9297-e877a9812597",
   "metadata": {},
   "outputs": [],
   "source": [
    "codenames_to_lemmas = {}\n",
    "for codename in all_codenames:\n",
    "    doc = nlp(codename)\n",
    "    for token in doc:\n",
    "        codenames_to_lemmas[codename] = token.lemma_\n",
    "        \n",
    "for codename_set in [blue_codenames, red_codenames, beige_codenames, black_codenames]:\n",
    "    for i in range(len(codename_set)):\n",
    "        codename_set[i] = codenames_to_lemmas[codename_set[i]]"
   ]
  },
  {
   "cell_type": "code",
   "execution_count": 8,
   "id": "2317bb99-e1c3-4b2e-978f-7540b486d488",
   "metadata": {},
   "outputs": [],
   "source": [
    "vectors = load_vectors_pd(DATA_PATH + \"crawl-300d-2M.vec\", 200000)"
   ]
  },
  {
   "cell_type": "code",
   "execution_count": 9,
   "id": "5010ae35-d1a7-4b86-ac92-355b84c8c2ab",
   "metadata": {},
   "outputs": [
    {
     "data": {
      "application/vnd.jupyter.widget-view+json": {
       "model_id": "7d227d99ed3d40a6bcc67f827de9d1fa",
       "version_major": 2,
       "version_minor": 0
      },
      "text/plain": [
       "  0%|          | 0/200000 [00:00<?, ?it/s]"
      ]
     },
     "metadata": {},
     "output_type": "display_data"
    }
   ],
   "source": [
    "vector_word_to_lemma_path = DATA_PATH + \"/vector_word_to_lemma_v2.json\"\n",
    "with open(vector_word_to_lemma_path, \"r\") as f:\n",
    "    vector_word_to_lemma = json.load(f)\n",
    "# vector_word_to_lemma = dict()\n",
    "\n",
    "for i in trange(vectors.shape[1]):\n",
    "    word = vectors.columns[i]\n",
    "    if word not in vector_word_to_lemma:\n",
    "        doc = nlp(word)\n",
    "        for token in doc:\n",
    "            vector_word_to_lemma[word] = token.lemma_\n",
    "            # there is punctuation that must be removed signs and such\n",
    "            break\n",
    "\n",
    "with open(vector_word_to_lemma_path, \"w\") as f:\n",
    "    json.dump(vector_word_to_lemma, f)"
   ]
  },
  {
   "cell_type": "code",
   "execution_count": 10,
   "id": "ff510c75-dbf3-41c4-8e2a-ece3b1e36b5a",
   "metadata": {},
   "outputs": [
    {
     "name": "stdout",
     "output_type": "stream",
     "text": [
      "200000\n",
      "124348\n"
     ]
    }
   ],
   "source": [
    "# distinct words in vocabulary versus total words\n",
    "print(len(vector_word_to_lemma.keys()))\n",
    "print(len(set(vector_word_to_lemma.values())))"
   ]
  },
  {
   "cell_type": "code",
   "execution_count": 11,
   "id": "058387a8-6a27-4bb6-b4bb-06798fbd7b5b",
   "metadata": {},
   "outputs": [],
   "source": [
    "lemmas = set([vector_word_to_lemma[word] for word in vectors.columns])\n",
    "for codename in all_codenames:\n",
    "    assert(codename in lemmas)"
   ]
  },
  {
   "cell_type": "code",
   "execution_count": 12,
   "id": "76625cf3-4789-4693-a127-5cbbbfd45715",
   "metadata": {
    "tags": []
   },
   "outputs": [],
   "source": [
    "def compare_codename_to_word(codename, word):\n",
    "    lower_word = word.lower()\n",
    "    lower_lemma = vector_word_to_lemma[word].lower()\n",
    "    return codename not in lower_lemma and lower_lemma not in codename and codename not in lower_word and lower_word not in codename\n",
    "compare_codename_to_word(\"model\", \"Modes\")\n",
    "\n",
    "def transform_cos_distance(cos_distance, a, b):\n",
    "    return np.exp(a - b * cos_distance) / (1 + np.exp(a - b * cos_distance))"
   ]
  },
  {
   "cell_type": "code",
   "execution_count": 13,
   "id": "eb807cd9-a623-4082-a64b-fba36ac1f65f",
   "metadata": {},
   "outputs": [],
   "source": [
    "all_cos_distances = pd.DataFrame(cosine_distances(vectors[all_codenames].transpose(), vectors.transpose()), index=all_codenames, columns=vectors.columns)\n",
    "all_prob_from_cosine = transform_cos_distance(all_cos_distances, a=12, b=16)"
   ]
  },
  {
   "cell_type": "code",
   "execution_count": 14,
   "id": "fe7d9ed7-8edf-429b-ac4d-cb26d3e926c8",
   "metadata": {},
   "outputs": [],
   "source": [
    "words_to_keep = []\n",
    "for word in all_prob_from_cosine.columns:\n",
    "    keep_word = True\n",
    "    for codename in all_prob_from_cosine.index:\n",
    "        if compare_codename_to_word(codename, word) is False:\n",
    "            keep_word = False\n",
    "    if keep_word:\n",
    "        words_to_keep.append(word)"
   ]
  },
  {
   "cell_type": "code",
   "execution_count": 15,
   "id": "a9da1b32-2431-43eb-9336-5b4066986773",
   "metadata": {},
   "outputs": [],
   "source": [
    "def colors_from_codenames(s):\n",
    "    colors = []\n",
    "    for idx in s.index:\n",
    "        if idx in red_codenames:\n",
    "            colors.append('background-color: lightcoral')\n",
    "        if idx in blue_codenames:\n",
    "            colors.append('background-color: cornflowerblue')\n",
    "        if idx in beige_codenames:\n",
    "            colors.append('background-color: bisque')\n",
    "        if idx in black_codenames:\n",
    "            colors.append('background-color: dimgray')\n",
    "    return colors"
   ]
  },
  {
   "cell_type": "code",
   "execution_count": 16,
   "id": "2aaa2ee2-68ae-41f3-8a7f-ead07eef8232",
   "metadata": {},
   "outputs": [],
   "source": [
    "def utility_function(probs, red_codenames, blue_codenames, beige_codenames, black_codenames, team=\"red\"):\n",
    "    # We should actually simulate the process of drawing these codenames\n",
    "    # it's very bad to draw the assassin, so let's try to stay away from him at all costs\n",
    "    black_util = all_prob_from_cosine.loc[black_codenames, :].sum(axis=0) * -15\n",
    "    # it's not really that bad to draw a beige tile, but it might stop you from finding the right tile\n",
    "    opportunity_cost = -0.04\n",
    "    beige_util = all_prob_from_cosine.loc[beige_codenames, :].sum(axis=0) * opportunity_cost\n",
    "    red_util = all_prob_from_cosine.loc[red_codenames, :].sum(axis=0)\n",
    "    blue_util = all_prob_from_cosine.loc[blue_codenames, :].sum(axis=0)\n",
    "    if team == \"red\":\n",
    "        blue_util = -1 * blue_util + opportunity_cost\n",
    "    if team == \"blue\":\n",
    "        red_util = -1 * red_util + opportunity_cost\n",
    "    if team != \"red\" and team != \"blue\":\n",
    "        return Exception\n",
    "    return black_util + beige_util + red_util + blue_util"
   ]
  },
  {
   "cell_type": "code",
   "execution_count": 17,
   "id": "e40eb221-6094-4522-8f63-d339cbaa1af9",
   "metadata": {},
   "outputs": [],
   "source": [
    "def display_candidate_clues(team, **kwargs):\n",
    "    assert team in {\"red\", \"blue\"}\n",
    "    # 9, 14 was pretty good\n",
    "    def filt_codenames(codenames):\n",
    "        return [codename for codename in codenames if kwargs[codename]]\n",
    "    utility_by_word = utility_function(all_prob_from_cosine,\n",
    "                                       red_codenames=filt_codenames(red_codenames),\n",
    "                                       blue_codenames=filt_codenames(blue_codenames),\n",
    "                                       beige_codenames=filt_codenames(beige_codenames),\n",
    "                                       black_codenames=filt_codenames(black_codenames),\n",
    "                                       team=team)\n",
    "    codenames_to_display = filt_codenames(all_codenames)\n",
    "    candidate_words = utility_by_word[words_to_keep].sort_values().tail(48).index\n",
    "    candidate_probs = all_prob_from_cosine[candidate_words]\n",
    "    for i in np.arange(0, len(candidate_words), 16):\n",
    "        display(candidate_probs.loc[codenames_to_display].iloc[:, i:(i + 16)].style.apply(colors_from_codenames, axis=0))"
   ]
  },
  {
   "cell_type": "code",
   "execution_count": 18,
   "id": "94737b79-20d9-4b89-98e7-73200296a60a",
   "metadata": {},
   "outputs": [],
   "source": [
    "checkboxes_dict = dict((codename, widgets.Checkbox(True, description=codename))  for codename in all_codenames)\n",
    "# _ = widgets.interact(display_candidate_clues, team=\"blue\", **checkboxes_dict)"
   ]
  },
  {
   "cell_type": "code",
   "execution_count": 19,
   "id": "b930a2be-a525-4968-8e72-09cb5f59b8c3",
   "metadata": {},
   "outputs": [],
   "source": [
    "interactive = widgets.interactive(display_candidate_clues, team=[\"blue\", \"red\"], **checkboxes_dict)"
   ]
  },
  {
   "cell_type": "code",
   "execution_count": 20,
   "id": "f2744bc5-2fbd-44f1-8b7c-b9ee980f1e67",
   "metadata": {},
   "outputs": [
    {
     "data": {
      "application/vnd.jupyter.widget-view+json": {
       "model_id": "81b68f8bf71547d2ba8f1e542de92449",
       "version_major": 2,
       "version_minor": 0
      },
      "text/plain": [
       "Dropdown(description='team', options=('blue', 'red'), value='blue')"
      ]
     },
     "metadata": {},
     "output_type": "display_data"
    }
   ],
   "source": [
    "interactive.children[0]"
   ]
  },
  {
   "cell_type": "code",
   "execution_count": 21,
   "id": "597ec58c-9b40-45c2-91fb-4f9b0b749011",
   "metadata": {},
   "outputs": [
    {
     "data": {
      "application/vnd.jupyter.widget-view+json": {
       "model_id": "b405374d03684a9d886e69cc8049e8db",
       "version_major": 2,
       "version_minor": 0
      },
      "text/plain": [
       "HBox(children=(VBox(children=(Checkbox(value=True, description='fog'), Checkbox(value=True, description='torna…"
      ]
     },
     "metadata": {},
     "output_type": "display_data"
    }
   ],
   "source": [
    "boxes = []\n",
    "for codenames in [red_codenames, blue_codenames, beige_codenames, black_codenames]:\n",
    "    box = [checkboxes_dict[codename] for codename in codenames]\n",
    "    boxes.append(VBox(box))\n",
    "HBox(boxes)"
   ]
  },
  {
   "cell_type": "code",
   "execution_count": 22,
   "id": "54421ae7-f0c5-4a50-8e8f-c6a3a8006e08",
   "metadata": {},
   "outputs": [
    {
     "data": {
      "application/vnd.jupyter.widget-view+json": {
       "model_id": "399a9303d7714c47a3f52c9679413f9b",
       "version_major": 2,
       "version_minor": 0
      },
      "text/plain": [
       "Output()"
      ]
     },
     "metadata": {},
     "output_type": "display_data"
    }
   ],
   "source": [
    "interactive.children[-1]"
   ]
  }
 ],
 "metadata": {
  "kernelspec": {
   "display_name": "Python 3 (ipykernel)",
   "language": "python",
   "name": "python3"
  },
  "language_info": {
   "codemirror_mode": {
    "name": "ipython",
    "version": 3
   },
   "file_extension": ".py",
   "mimetype": "text/x-python",
   "name": "python",
   "nbconvert_exporter": "python",
   "pygments_lexer": "ipython3",
   "version": "3.9.7"
  }
 },
 "nbformat": 4,
 "nbformat_minor": 5
}
