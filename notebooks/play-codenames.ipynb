{
 "cells": [
  {
   "cell_type": "code",
   "execution_count": 6,
   "id": "0bc6f8f3-3262-465b-b786-8462ac0890d6",
   "metadata": {},
   "outputs": [],
   "source": [
    "import copy\n",
    "import io\n",
    "import ipywidgets as widgets\n",
    "from ipywidgets import Button, HBox, VBox\n",
    "from IPython.display import display\n",
    "import json\n",
    "import numpy as np\n",
    "import pandas as pd\n",
    "from sklearn.metrics.pairwise import euclidean_distances, cosine_distances\n",
    "import spacy\n",
    "from tqdm.notebook import trange, tqdm"
   ]
  },
  {
   "cell_type": "code",
   "execution_count": 7,
   "id": "bc2f23c4-683d-4e2c-bed7-8d15eb8386f2",
   "metadata": {},
   "outputs": [],
   "source": [
    "nlp = spacy.load(\"en_core_web_sm\")"
   ]
  },
  {
   "cell_type": "code",
   "execution_count": 8,
   "id": "dd780ab2-3718-47fd-bf3e-f2e788656410",
   "metadata": {},
   "outputs": [],
   "source": [
    "DATA_PATH = \"../data/\""
   ]
  },
  {
   "cell_type": "code",
   "execution_count": 9,
   "id": "8296e22f-b4f9-4e26-bc61-1745099255f5",
   "metadata": {},
   "outputs": [],
   "source": [
    "with open(DATA_PATH + \"./words_dictionary.json\", \"r\") as f:\n",
    "    words_dictionary = json.load(f)"
   ]
  },
  {
   "cell_type": "code",
   "execution_count": 10,
   "id": "c5503f6a-bef4-4aae-a60c-9d9c81fe40e7",
   "metadata": {},
   "outputs": [],
   "source": [
    "def load_vectors_pd(fname, total_to_load=10000):\n",
    "    fin = io.open(fname, 'r', encoding='utf-8', newline='\\n', errors='ignore')\n",
    "    n, d = map(int, fin.readline().split())\n",
    "    data = {}\n",
    "    index = []\n",
    "    total_loaded = 0\n",
    "    for line in fin:\n",
    "        tokens = line.rstrip().split(' ')\n",
    "        data[tokens[0]] = list(map(float, tokens[1:]))\n",
    "        total_loaded += 1\n",
    "        if total_loaded >= total_to_load:\n",
    "            break\n",
    "    return pd.DataFrame(data)"
   ]
  },
  {
   "cell_type": "code",
   "execution_count": 11,
   "id": "5d5c62f0-a231-45a6-b734-f9d4d578881e",
   "metadata": {},
   "outputs": [],
   "source": [
    "# type in codenames here\n",
    "\n",
    "red_codenames_1 = ['pit', 'newton', 'elephant', 'sub', 'street', 'model', 'lemon', 'lock']\n",
    "blue_codenames_1 = ['judge', 'paddle', 'volcano', 'bed', 'break', 'driver', 'ram', 'hotel']\n",
    "beige_codenames_1 = ['snow', 'tattoo', 'guitar', 'paint', 'trick', 'walrus', 'hook']\n",
    "black_codenames_1 = [\"squirrel\"]\n",
    "\n",
    "red_codenames = ['fog', 'tornado', 'poison', 'purse', 'night', 'brush', 'aztec', 'blade']\n",
    "blue_codenames = ['crab', 'balloon', 'diamond', 'file', 'state', 'ruler', 'sound', 'dollar', 'drum']\n",
    "beige_codenames = ['shower', 'tea', 'university', 'bomb', 'leather', 'cover', 'tattoo']\n",
    "black_codenames = ['mouse']"
   ]
  },
  {
   "cell_type": "code",
   "execution_count": 12,
   "id": "298783f3-cbd2-4d44-a525-f2bff8cceaea",
   "metadata": {},
   "outputs": [],
   "source": [
    "all_codenames = red_codenames_1 + blue_codenames_1 + beige_codenames_1 + black_codenames_1 + red_codenames + blue_codenames + beige_codenames + black_codenames "
   ]
  },
  {
   "cell_type": "code",
   "execution_count": 13,
   "id": "84b547dd-8ae6-469f-9297-e877a9812597",
   "metadata": {},
   "outputs": [],
   "source": [
    "codenames_to_lemmas = {}\n",
    "for codename in all_codenames:\n",
    "    doc = nlp(codename)\n",
    "    for token in doc:\n",
    "        codenames_to_lemmas[codename] = token.lemma_\n",
    "        \n",
    "for codename_set in [blue_codenames, red_codenames, beige_codenames, black_codenames]:\n",
    "    for i in range(len(codename_set)):\n",
    "        codename_set[i] = codenames_to_lemmas[codename_set[i]]"
   ]
  },
  {
   "cell_type": "code",
   "execution_count": 14,
   "id": "2317bb99-e1c3-4b2e-978f-7540b486d488",
   "metadata": {},
   "outputs": [],
   "source": [
    "vectors = load_vectors_pd(DATA_PATH + \"crawl-300d-2M.vec\", 200000)"
   ]
  },
  {
   "cell_type": "code",
   "execution_count": 15,
   "id": "5010ae35-d1a7-4b86-ac92-355b84c8c2ab",
   "metadata": {},
   "outputs": [
    {
     "data": {
      "application/vnd.jupyter.widget-view+json": {
       "model_id": "1f105e8186df4ff7ba1b9c9882832f80",
       "version_major": 2,
       "version_minor": 0
      },
      "text/plain": [
       "  0%|          | 0/200000 [00:00<?, ?it/s]"
      ]
     },
     "metadata": {},
     "output_type": "display_data"
    }
   ],
   "source": [
    "vector_word_to_lemma_path = DATA_PATH + \"/vector_word_to_lemma_v2.json\"\n",
    "with open(vector_word_to_lemma_path, \"r\") as f:\n",
    "    vector_word_to_lemma = json.load(f)\n",
    "# vector_word_to_lemma = dict()\n",
    "\n",
    "for i in trange(vectors.shape[1]):\n",
    "    word = vectors.columns[i]\n",
    "    if word not in vector_word_to_lemma:\n",
    "        doc = nlp(word)\n",
    "        for token in doc:\n",
    "            vector_word_to_lemma[word] = token.lemma_\n",
    "            # there is punctuation that must be removed signs and such\n",
    "            break\n",
    "\n",
    "with open(vector_word_to_lemma_path, \"w\") as f:\n",
    "    json.dump(vector_word_to_lemma, f)"
   ]
  },
  {
   "cell_type": "code",
   "execution_count": 16,
   "id": "ff510c75-dbf3-41c4-8e2a-ece3b1e36b5a",
   "metadata": {},
   "outputs": [
    {
     "name": "stdout",
     "output_type": "stream",
     "text": [
      "200000\n",
      "124348\n"
     ]
    }
   ],
   "source": [
    "# distinct words in vocabulary versus total words\n",
    "print(len(vector_word_to_lemma.keys()))\n",
    "print(len(set(vector_word_to_lemma.values())))"
   ]
  },
  {
   "cell_type": "code",
   "execution_count": 17,
   "id": "058387a8-6a27-4bb6-b4bb-06798fbd7b5b",
   "metadata": {},
   "outputs": [],
   "source": [
    "lemmas = set([vector_word_to_lemma[word] for word in vectors.columns])\n",
    "for codename in all_codenames:\n",
    "    assert(codename in lemmas)"
   ]
  },
  {
   "cell_type": "code",
   "execution_count": 18,
   "id": "76625cf3-4789-4693-a127-5cbbbfd45715",
   "metadata": {
    "tags": []
   },
   "outputs": [],
   "source": [
    "def compare_codename_to_word(codename, word):\n",
    "    lower_word = word.lower()\n",
    "    lower_lemma = vector_word_to_lemma[word].lower()\n",
    "    return codename not in lower_lemma and lower_lemma not in codename and codename not in lower_word and lower_word not in codename\n",
    "compare_codename_to_word(\"model\", \"Modes\")\n",
    "\n",
    "def transform_cos_distance(cos_distance, a, b):\n",
    "    return np.exp(a - b * cos_distance) / (1 + np.exp(a - b * cos_distance))"
   ]
  },
  {
   "cell_type": "code",
   "execution_count": 19,
   "id": "eb807cd9-a623-4082-a64b-fba36ac1f65f",
   "metadata": {},
   "outputs": [
    {
     "data": {
      "image/png": "[encoded data removed]",
      "text/plain": [
       "<Figure size 432x288 with 1 Axes>"
      ]
     },
     "metadata": {
      "needs_background": "light"
     },
     "output_type": "display_data"
    }
   ],
   "source": [
    "all_cos_distances = pd.DataFrame(cosine_distances(vectors[all_codenames].transpose(), vectors.transpose()), index=all_codenames, columns=vectors.columns)\n",
    "pd.Series(all_cos_distances.values.flatten()).plot(kind=\"hist\", bins=100)\n",
    "cos_stacked_distances = all_cos_distances.stack()\n",
    "all_prob_from_cosine = transform_cos_distance(all_cos_distances, a=12, b=16)"
   ]
  },
  {
   "cell_type": "code",
   "execution_count": 20,
   "id": "fe7d9ed7-8edf-429b-ac4d-cb26d3e926c8",
   "metadata": {},
   "outputs": [],
   "source": [
    "words_to_keep = []\n",
    "for word in all_prob_from_cosine.columns:\n",
    "    keep_word = True\n",
    "    for codename in all_prob_from_cosine.index:\n",
    "        if compare_codename_to_word(codename, word) is False:\n",
    "            keep_word = False\n",
    "    if keep_word:\n",
    "        words_to_keep.append(word)\n",
    "    if word not in words_dictionary:\n",
    "        keep_word = False"
   ]
  },
  {
   "cell_type": "code",
   "execution_count": 22,
   "id": "fbfad893-117f-46e9-a7ce-3414e28045a0",
   "metadata": {},
   "outputs": [],
   "source": [
    "# looking at cosine distances between words\n",
    "\n",
    "viz_similarities = list()\n",
    "prev_value = 0\n",
    "for cur_value in np.linspace(0, 1, 200):\n",
    "    distances = cos_stacked_distances[np.logical_and(cos_stacked_distances > prev_value, cos_stacked_distances < cur_value).values]\n",
    "    diff_lemma_distances = distances[[compare_codename_to_word(idx[0], idx[1]) for idx in distances.index]]\n",
    "    if diff_lemma_distances.shape[0] >= 1:\n",
    "        viz_distances = diff_lemma_distances.sample(1)\n",
    "        viz_similarities.append((prev_value, cur_value, viz_distances.index[0][0], viz_distances.index[0][1], viz_distances.values[0]))\n",
    "    prev_value = cur_value"
   ]
  },
  {
   "cell_type": "code",
   "execution_count": 23,
   "id": "4d7af5b3-2da8-46f3-b1e2-eb1d4f2a41fa",
   "metadata": {},
   "outputs": [],
   "source": [
    "pd_viz_sim = pd.DataFrame(viz_similarities, columns=[\"begin_bucket\", \"end_bucket\", \"clue\", \"word\", \"cos_dist\"])\n",
    "pd_viz_sim[\"prob\"] = transform_cos_distance(pd_viz_sim[\"cos_dist\"], a=14, b=22)"
   ]
  },
  {
   "cell_type": "code",
   "execution_count": 24,
   "id": "6e4abe6b-2ee0-4492-a0f9-e786797ba26b",
   "metadata": {},
   "outputs": [
    {
     "data": {
      "text/html": [
       "<div>\n",
       "<style scoped>\n",
       "    .dataframe tbody tr th:only-of-type {\n",
       "        vertical-align: middle;\n",
       "    }\n",
       "\n",
       "    .dataframe tbody tr th {\n",
       "        vertical-align: top;\n",
       "    }\n",
       "\n",
       "    .dataframe thead th {\n",
       "        text-align: right;\n",
       "    }\n",
       "</style>\n",
       "<table border=\"1\" class=\"dataframe\">\n",
       "  <thead>\n",
       "    <tr style=\"text-align: right;\">\n",
       "      <th></th>\n",
       "      <th>cos_dist</th>\n",
       "      <th>clue</th>\n",
       "      <th>word</th>\n",
       "    </tr>\n",
       "  </thead>\n",
       "  <tbody>\n",
       "    <tr>\n",
       "      <th>0</th>\n",
       "      <td>0.146163</td>\n",
       "      <td>tattoo</td>\n",
       "      <td>tatoo</td>\n",
       "    </tr>\n",
       "    <tr>\n",
       "      <th>5</th>\n",
       "      <td>0.241132</td>\n",
       "      <td>crab</td>\n",
       "      <td>lobster</td>\n",
       "    </tr>\n",
       "    <tr>\n",
       "      <th>10</th>\n",
       "      <td>0.276917</td>\n",
       "      <td>tattoo</td>\n",
       "      <td>tatoos</td>\n",
       "    </tr>\n",
       "    <tr>\n",
       "      <th>15</th>\n",
       "      <td>0.309951</td>\n",
       "      <td>guitar</td>\n",
       "      <td>ukulele</td>\n",
       "    </tr>\n",
       "    <tr>\n",
       "      <th>20</th>\n",
       "      <td>0.334517</td>\n",
       "      <td>guitar</td>\n",
       "      <td>violin</td>\n",
       "    </tr>\n",
       "    <tr>\n",
       "      <th>25</th>\n",
       "      <td>0.356877</td>\n",
       "      <td>walrus</td>\n",
       "      <td>whale</td>\n",
       "    </tr>\n",
       "    <tr>\n",
       "      <th>30</th>\n",
       "      <td>0.383926</td>\n",
       "      <td>university</td>\n",
       "      <td>polytechnic</td>\n",
       "    </tr>\n",
       "    <tr>\n",
       "      <th>35</th>\n",
       "      <td>0.409408</td>\n",
       "      <td>leather</td>\n",
       "      <td>goatskin</td>\n",
       "    </tr>\n",
       "    <tr>\n",
       "      <th>40</th>\n",
       "      <td>0.435502</td>\n",
       "      <td>crab</td>\n",
       "      <td>Shrimp</td>\n",
       "    </tr>\n",
       "    <tr>\n",
       "      <th>45</th>\n",
       "      <td>0.460254</td>\n",
       "      <td>squirrel</td>\n",
       "      <td>porcupine</td>\n",
       "    </tr>\n",
       "    <tr>\n",
       "      <th>50</th>\n",
       "      <td>0.483060</td>\n",
       "      <td>volcano</td>\n",
       "      <td>Krakatoa</td>\n",
       "    </tr>\n",
       "    <tr>\n",
       "      <th>55</th>\n",
       "      <td>0.512205</td>\n",
       "      <td>trick</td>\n",
       "      <td>stratagem</td>\n",
       "    </tr>\n",
       "    <tr>\n",
       "      <th>60</th>\n",
       "      <td>0.536372</td>\n",
       "      <td>blade</td>\n",
       "      <td>sheathed</td>\n",
       "    </tr>\n",
       "    <tr>\n",
       "      <th>65</th>\n",
       "      <td>0.562414</td>\n",
       "      <td>guitar</td>\n",
       "      <td>pedals</td>\n",
       "    </tr>\n",
       "    <tr>\n",
       "      <th>70</th>\n",
       "      <td>0.586856</td>\n",
       "      <td>tattoo</td>\n",
       "      <td>inking</td>\n",
       "    </tr>\n",
       "    <tr>\n",
       "      <th>75</th>\n",
       "      <td>0.612641</td>\n",
       "      <td>street</td>\n",
       "      <td>bodega</td>\n",
       "    </tr>\n",
       "    <tr>\n",
       "      <th>80</th>\n",
       "      <td>0.634447</td>\n",
       "      <td>guitar</td>\n",
       "      <td>jangle</td>\n",
       "    </tr>\n",
       "    <tr>\n",
       "      <th>85</th>\n",
       "      <td>0.659700</td>\n",
       "      <td>leather</td>\n",
       "      <td>crinkled</td>\n",
       "    </tr>\n",
       "    <tr>\n",
       "      <th>90</th>\n",
       "      <td>0.686661</td>\n",
       "      <td>lemon</td>\n",
       "      <td>mezcal</td>\n",
       "    </tr>\n",
       "    <tr>\n",
       "      <th>95</th>\n",
       "      <td>0.712330</td>\n",
       "      <td>street</td>\n",
       "      <td>guy</td>\n",
       "    </tr>\n",
       "    <tr>\n",
       "      <th>100</th>\n",
       "      <td>0.736701</td>\n",
       "      <td>lock</td>\n",
       "      <td>accidentally</td>\n",
       "    </tr>\n",
       "    <tr>\n",
       "      <th>105</th>\n",
       "      <td>0.761592</td>\n",
       "      <td>squirrel</td>\n",
       "      <td>Buck</td>\n",
       "    </tr>\n",
       "    <tr>\n",
       "      <th>110</th>\n",
       "      <td>0.786525</td>\n",
       "      <td>shower</td>\n",
       "      <td>skink</td>\n",
       "    </tr>\n",
       "    <tr>\n",
       "      <th>115</th>\n",
       "      <td>0.812979</td>\n",
       "      <td>state</td>\n",
       "      <td>bestowal</td>\n",
       "    </tr>\n",
       "    <tr>\n",
       "      <th>120</th>\n",
       "      <td>0.838994</td>\n",
       "      <td>brush</td>\n",
       "      <td>Chrome</td>\n",
       "    </tr>\n",
       "    <tr>\n",
       "      <th>125</th>\n",
       "      <td>0.862563</td>\n",
       "      <td>file</td>\n",
       "      <td>đã</td>\n",
       "    </tr>\n",
       "    <tr>\n",
       "      <th>130</th>\n",
       "      <td>0.885779</td>\n",
       "      <td>leather</td>\n",
       "      <td>EXO</td>\n",
       "    </tr>\n",
       "    <tr>\n",
       "      <th>135</th>\n",
       "      <td>0.911675</td>\n",
       "      <td>tattoo</td>\n",
       "      <td>Conn.</td>\n",
       "    </tr>\n",
       "    <tr>\n",
       "      <th>140</th>\n",
       "      <td>0.936223</td>\n",
       "      <td>street</td>\n",
       "      <td>Rate</td>\n",
       "    </tr>\n",
       "    <tr>\n",
       "      <th>145</th>\n",
       "      <td>0.964615</td>\n",
       "      <td>shower</td>\n",
       "      <td>Badami</td>\n",
       "    </tr>\n",
       "  </tbody>\n",
       "</table>\n",
       "</div>"
      ],
      "text/plain": [
       "     cos_dist        clue          word\n",
       "0    0.146163      tattoo         tatoo\n",
       "5    0.241132        crab       lobster\n",
       "10   0.276917      tattoo        tatoos\n",
       "15   0.309951      guitar       ukulele\n",
       "20   0.334517      guitar        violin\n",
       "25   0.356877      walrus         whale\n",
       "30   0.383926  university   polytechnic\n",
       "35   0.409408     leather      goatskin\n",
       "40   0.435502        crab        Shrimp\n",
       "45   0.460254    squirrel     porcupine\n",
       "50   0.483060     volcano      Krakatoa\n",
       "55   0.512205       trick     stratagem\n",
       "60   0.536372       blade      sheathed\n",
       "65   0.562414      guitar        pedals\n",
       "70   0.586856      tattoo        inking\n",
       "75   0.612641      street        bodega\n",
       "80   0.634447      guitar        jangle\n",
       "85   0.659700     leather      crinkled\n",
       "90   0.686661       lemon        mezcal\n",
       "95   0.712330      street           guy\n",
       "100  0.736701        lock  accidentally\n",
       "105  0.761592    squirrel          Buck\n",
       "110  0.786525      shower         skink\n",
       "115  0.812979       state      bestowal\n",
       "120  0.838994       brush        Chrome\n",
       "125  0.862563        file            đã\n",
       "130  0.885779     leather           EXO\n",
       "135  0.911675      tattoo         Conn.\n",
       "140  0.936223      street          Rate\n",
       "145  0.964615      shower        Badami"
      ]
     },
     "execution_count": 24,
     "metadata": {},
     "output_type": "execute_result"
    }
   ],
   "source": [
    "pd_viz_sim[[\"cos_dist\", \"clue\", \"word\"]].iloc[list(range(0, 147, 5)), :]"
   ]
  },
  {
   "cell_type": "code",
   "execution_count": 15,
   "id": "a9da1b32-2431-43eb-9336-5b4066986773",
   "metadata": {},
   "outputs": [],
   "source": [
    "def colors_from_codenames(s):\n",
    "    colors = []\n",
    "    for idx in s.index:\n",
    "        if idx in red_codenames:\n",
    "            colors.append('background-color: lightcoral')\n",
    "        if idx in blue_codenames:\n",
    "            colors.append('background-color: cornflowerblue')\n",
    "        if idx in beige_codenames:\n",
    "            colors.append('background-color: bisque')\n",
    "        if idx in black_codenames:\n",
    "            colors.append('background-color: dimgray')\n",
    "    return colors"
   ]
  },
  {
   "cell_type": "code",
   "execution_count": 16,
   "id": "2aaa2ee2-68ae-41f3-8a7f-ead07eef8232",
   "metadata": {},
   "outputs": [],
   "source": [
    "def utility_function(probs, red_codenames, blue_codenames, beige_codenames, black_codenames, team=\"red\"):\n",
    "    # We should actually simulate the process of drawing these codenames\n",
    "    # it's very bad to draw the assassin, so let's try to stay away from him at all costs\n",
    "    black_util = all_prob_from_cosine.loc[black_codenames, :].sum(axis=0) * -15\n",
    "    # it's not really that bad to draw a beige tile, but it might stop you from finding the right tile\n",
    "    opportunity_cost = -0.04\n",
    "    beige_util = all_prob_from_cosine.loc[beige_codenames, :].sum(axis=0) * opportunity_cost\n",
    "    red_util = all_prob_from_cosine.loc[red_codenames, :].sum(axis=0)\n",
    "    blue_util = all_prob_from_cosine.loc[blue_codenames, :].sum(axis=0)\n",
    "    if team == \"red\":\n",
    "        blue_util = -1 * blue_util + opportunity_cost\n",
    "    if team == \"blue\":\n",
    "        red_util = -1 * red_util + opportunity_cost\n",
    "    if team != \"red\" and team != \"blue\":\n",
    "        return Exception\n",
    "    return black_util + beige_util + red_util + blue_util"
   ]
  },
  {
   "cell_type": "code",
   "execution_count": 17,
   "id": "e40eb221-6094-4522-8f63-d339cbaa1af9",
   "metadata": {},
   "outputs": [],
   "source": [
    "def display_candidate_clues(team, **kwargs):\n",
    "    assert team in {\"red\", \"blue\"}\n",
    "    # 9, 14 was pretty good\n",
    "    def filt_codenames(codenames):\n",
    "        return [codename for codename in codenames if kwargs[codename]]\n",
    "    utility_by_word = utility_function(all_prob_from_cosine,\n",
    "                                       red_codenames=filt_codenames(red_codenames),\n",
    "                                       blue_codenames=filt_codenames(blue_codenames),\n",
    "                                       beige_codenames=filt_codenames(beige_codenames),\n",
    "                                       black_codenames=filt_codenames(black_codenames),\n",
    "                                       team=team)\n",
    "    codenames_to_display = filt_codenames(all_codenames)\n",
    "    candidate_words = utility_by_word[words_to_keep].sort_values().tail(48).index\n",
    "    candidate_probs = all_prob_from_cosine[candidate_words]\n",
    "    for i in np.arange(0, len(candidate_words), 16):\n",
    "        display(candidate_probs.loc[codenames_to_display].iloc[:, i:(i + 16)].style.apply(colors_from_codenames, axis=0))"
   ]
  },
  {
   "cell_type": "code",
   "execution_count": 18,
   "id": "94737b79-20d9-4b89-98e7-73200296a60a",
   "metadata": {},
   "outputs": [],
   "source": [
    "checkboxes_dict = dict((codename, widgets.Checkbox(True, description=codename))  for codename in all_codenames)\n",
    "# _ = widgets.interact(display_candidate_clues, team=\"blue\", **checkboxes_dict)"
   ]
  },
  {
   "cell_type": "code",
   "execution_count": 19,
   "id": "b930a2be-a525-4968-8e72-09cb5f59b8c3",
   "metadata": {},
   "outputs": [],
   "source": [
    "interactive = widgets.interactive(display_candidate_clues, team=[\"blue\", \"red\"], **checkboxes_dict)"
   ]
  },
  {
   "cell_type": "code",
   "execution_count": 29,
   "id": "f2744bc5-2fbd-44f1-8b7c-b9ee980f1e67",
   "metadata": {},
   "outputs": [
    {
     "data": {
      "application/vnd.jupyter.widget-view+json": {
       "model_id": "e9df815c7f3f4f2ca811107a2c707146",
       "version_major": 2,
       "version_minor": 0
      },
      "text/plain": [
       "Dropdown(description='team', index=1, options=('blue', 'red'), value='red')"
      ]
     },
     "metadata": {},
     "output_type": "display_data"
    }
   ],
   "source": [
    "interactive.children[0]"
   ]
  },
  {
   "cell_type": "code",
   "execution_count": 28,
   "id": "597ec58c-9b40-45c2-91fb-4f9b0b749011",
   "metadata": {},
   "outputs": [
    {
     "data": {
      "application/vnd.jupyter.widget-view+json": {
       "model_id": "e848aaa9ad1447928485fb1f9b031994",
       "version_major": 2,
       "version_minor": 0
      },
      "text/plain": [
       "HBox(children=(VBox(children=(Checkbox(value=True, description='fog'), Checkbox(value=True, description='torna…"
      ]
     },
     "metadata": {},
     "output_type": "display_data"
    }
   ],
   "source": [
    "boxes = []\n",
    "for codenames in [red_codenames, blue_codenames, beige_codenames, black_codenames]:\n",
    "    box = [checkboxes_dict[codename] for codename in codenames]\n",
    "    boxes.append(VBox(box))\n",
    "HBox(boxes)"
   ]
  },
  {
   "cell_type": "code",
   "execution_count": 24,
   "id": "54421ae7-f0c5-4a50-8e8f-c6a3a8006e08",
   "metadata": {},
   "outputs": [
    {
     "data": {
      "application/vnd.jupyter.widget-view+json": {
       "model_id": "0c43210b41084c34a750d115b54ad125",
       "version_major": 2,
       "version_minor": 0
      },
      "text/plain": [
       "Output()"
      ]
     },
     "metadata": {},
     "output_type": "display_data"
    }
   ],
   "source": [
    "interactive.children[-1]"
   ]
  },
  {
   "cell_type": "markdown",
   "id": "f3a6f9f1-d0b6-417a-ba2c-755efdb1106c",
   "metadata": {},
   "source": [
    "# Scratchwork"
   ]
  },
  {
   "cell_type": "code",
   "execution_count": 19,
   "id": "92366c29-cb51-48cc-ba0d-867c51908c71",
   "metadata": {},
   "outputs": [
    {
     "ename": "NameError",
     "evalue": "name 'team' is not defined",
     "output_type": "error",
     "traceback": [
      "\u001b[0;31m---------------------------------------------------------------------------\u001b[0m",
      "\u001b[0;31mNameError\u001b[0m                                 Traceback (most recent call last)",
      "\u001b[0;32m/var/folders/78/16lmgb053h9gw2_n1k5r5hxr0000gn/T/ipykernel_38835/944658406.py\u001b[0m in \u001b[0;36m<module>\u001b[0;34m\u001b[0m\n\u001b[0;32m----> 1\u001b[0;31m \u001b[0m_\u001b[0m \u001b[0;34m=\u001b[0m \u001b[0mwidgets\u001b[0m\u001b[0;34m.\u001b[0m\u001b[0minteract\u001b[0m\u001b[0;34m(\u001b[0m\u001b[0mdisplay_candidate_clues\u001b[0m\u001b[0;34m,\u001b[0m \u001b[0mteam\u001b[0m\u001b[0;34m=\u001b[0m\u001b[0mteam\u001b[0m\u001b[0;34m,\u001b[0m \u001b[0;34m**\u001b[0m\u001b[0;34m{\u001b[0m\u001b[0mcodename\u001b[0m\u001b[0;34m:\u001b[0m \u001b[0mwidgets\u001b[0m\u001b[0;34m.\u001b[0m\u001b[0mfixed\u001b[0m\u001b[0;34m(\u001b[0m\u001b[0;32mTrue\u001b[0m\u001b[0;34m)\u001b[0m \u001b[0;32mfor\u001b[0m \u001b[0mcodename\u001b[0m \u001b[0;32min\u001b[0m \u001b[0mall_codenames\u001b[0m\u001b[0;34m}\u001b[0m\u001b[0;34m)\u001b[0m\u001b[0;34m\u001b[0m\u001b[0;34m\u001b[0m\u001b[0m\n\u001b[0m",
      "\u001b[0;31mNameError\u001b[0m: name 'team' is not defined"
     ]
    }
   ],
   "source": [
    "# _ = widgets.interact(display_candidate_clues, team=team, **{codename: widgets.fixed(True) for codename in all_codenames})"
   ]
  },
  {
   "cell_type": "code",
   "execution_count": 83,
   "id": "4b93c522-1929-412b-974f-5ea34f8c63d5",
   "metadata": {},
   "outputs": [],
   "source": [
    "# import ipywidgets as widgets\n",
    "\n",
    "# box = widgets.Checkbox(False, description='checker')\n",
    "# out = widgets.Output()\n",
    "\n",
    "# @out.capture()\n",
    "# def changed(b):\n",
    "#     b[\"\n",
    "#     print(b)\n",
    "\n",
    "# box.observe(changed)\n",
    "\n",
    "# display(box)\n",
    "# display(out)"
   ]
  },
  {
   "cell_type": "code",
   "execution_count": null,
   "id": "d883a4b6-f348-4b8f-b1c7-27b982e9300b",
   "metadata": {},
   "outputs": [],
   "source": [
    "# global codenames_selected\n",
    "# codenames_selected = copy.deepcopy(all_codenames)"
   ]
  },
  {
   "cell_type": "code",
   "execution_count": null,
   "id": "abfb768e-a995-469e-b932-2f867e487062",
   "metadata": {},
   "outputs": [],
   "source": [
    "# # add this in later\n",
    "# team = widgets.Dropdown(\n",
    "#     options=[\"blue\", \"red\"],\n",
    "#     value=\"blue\"\n",
    "# )\n",
    "# display(team)"
   ]
  },
  {
   "cell_type": "code",
   "execution_count": 186,
   "id": "55cdf84d-3f1e-4964-a1b2-93925b3a3d2d",
   "metadata": {},
   "outputs": [],
   "source": [
    "# _ = widgets.interact(display_candidate_clues, team=team, **{codename: widgets.fixed(True) for codename in all_codenames})"
   ]
  },
  {
   "cell_type": "code",
   "execution_count": null,
   "id": "931786d5-b3c3-49e3-9b1b-e53b137da8e6",
   "metadata": {},
   "outputs": [],
   "source": [
    "checkboxes_dict = dict((codename, widgets.Checkbox(True, description=codename))  for codename in all_codenames)"
   ]
  },
  {
   "cell_type": "code",
   "execution_count": 139,
   "id": "d883f813-f724-499a-94ba-cc4086339475",
   "metadata": {},
   "outputs": [
    {
     "data": {
      "application/vnd.jupyter.widget-view+json": {
       "model_id": "81c7b2d4bc2b4c7abcc55ff14d1515f5",
       "version_major": 2,
       "version_minor": 0
      },
      "text/plain": [
       "HBox(children=(VBox(children=(Button(description='correct', style=ButtonStyle()), Button(description='horse', …"
      ]
     },
     "metadata": {},
     "output_type": "display_data"
    }
   ],
   "source": [
    "\n",
    "\n",
    "# left_box = VBox([items[0], items[1]])\n",
    "# right_box = VBox([items[2], items[3]])\n",
    "# boxes = []\n",
    "# current_idx = 0\n",
    "# for i in range(5):\n",
    "#     box = []\n",
    "#     for j in range(5):\n",
    "        \n",
    "#     boxes.append(Vbox([]))\n",
    "# HBox([left_box, right_box])"
   ]
  },
  {
   "cell_type": "code",
   "execution_count": null,
   "id": "745bd292-0849-4f33-8bda-59e9b88de9f0",
   "metadata": {},
   "outputs": [],
   "source": [
    "_ = widgets.interact(display_candidate_clues, team=team, **checkboxes_dict)"
   ]
  },
  {
   "cell_type": "code",
   "execution_count": 188,
   "id": "13e8f5cb-b384-4feb-a28f-04d1513364fa",
   "metadata": {
    "collapsed": true,
    "jupyter": {
     "outputs_hidden": true
    },
    "tags": []
   },
   "outputs": [
    {
     "data": {
      "application/vnd.jupyter.widget-view+json": {
       "model_id": "d92a0e87a3904bb0a25e0498e7e37be2",
       "version_major": 2,
       "version_minor": 0
      },
      "text/plain": [
       "Output(outputs=({'output_type': 'display_data', 'data': {'text/plain': '<pandas.io.formats.style.Styler at 0x7…"
      ]
     },
     "metadata": {},
     "output_type": "display_data"
    }
   ],
   "source": [
    "# interactive.children[-1]"
   ]
  },
  {
   "cell_type": "code",
   "execution_count": 175,
   "id": "f549a580-2ea0-4ecd-9437-8e986ad82860",
   "metadata": {},
   "outputs": [
    {
     "data": {
      "application/vnd.jupyter.widget-view+json": {
       "model_id": "5d603c44f8fa4497b830912d1659104a",
       "version_major": 2,
       "version_minor": 0
      },
      "text/plain": [
       "Checkbox(value=True, description='sound')"
      ]
     },
     "metadata": {},
     "output_type": "display_data"
    }
   ],
   "source": [
    "interactive = widgets.interactive(display_candidate_clues, team=team, **checkboxes_dict)\n",
    "display(interactive.children[15])\n"
   ]
  },
  {
   "cell_type": "code",
   "execution_count": 106,
   "id": "e3f25574-5af9-4674-a641-28bea36131b4",
   "metadata": {},
   "outputs": [],
   "source": [
    "# def display_candidate_clues(team, **kwargs):\n",
    "#     assert team in {\"red\", \"blue\"}\n",
    "#     # 9, 14 was pretty good\n",
    "#     def filt_codenames(codenames):\n",
    "#         return [codename for codename in codenames if codename in codenames_selected]\n",
    "#     utility_by_word = utility_function(all_prob_from_cosine,\n",
    "#                                        filt_codenames(red_codenames),\n",
    "#                                        filt_codenames(blue_codenames),\n",
    "#                                        filt_codenames(beige_codenames),\n",
    "#                                        filt_codenames(black_codenames), team=team)\n",
    "#     # utility_by_word[words_to_keep].sort_values().tail(40)\n",
    "#     candidate_words = utility_by_word[words_to_keep].sort_values().tail(40).index\n",
    "#     candidate_probs = all_prob_from_cosine[candidate_words]\n",
    "#     display(candidate_probs.style.apply(colors_from_codenames, axis=0))"
   ]
  },
  {
   "cell_type": "code",
   "execution_count": 128,
   "id": "f604190a-b5a0-4cbd-8c9d-505ce0122d76",
   "metadata": {},
   "outputs": [],
   "source": [
    "checkboxes_dict = dict((codename, widgets.Checkbox(True, description=codename))  for codename in all_codenames)"
   ]
  },
  {
   "cell_type": "code",
   "execution_count": null,
   "id": "852a9b59-12c3-416c-a92f-f8165126143a",
   "metadata": {},
   "outputs": [],
   "source": []
  },
  {
   "cell_type": "code",
   "execution_count": 137,
   "id": "823a5000-f700-4c69-8c3e-be31e079b343",
   "metadata": {},
   "outputs": [],
   "source": [
    "# widgets.interact(display_candidate_clues, \n",
    "#                 c1=checkboxes[0], c2=checkboxes[1]) "
   ]
  },
  {
   "cell_type": "code",
   "execution_count": 189,
   "id": "9e9f823d-ebf8-4e8d-a908-6ed64691b6be",
   "metadata": {},
   "outputs": [],
   "source": [
    "# checkboxes = [widgets.Checkbox(True, description=codename) for codename in all_codenames]\n",
    "# out = widgets.Output()\n",
    "\n",
    "# @out.capture()\n",
    "# def changed(b):\n",
    "#     if b[\"name\"] == \"value\":\n",
    "#         description = b[\"owner\"].description\n",
    "#         if b.new == False:\n",
    "#             codenames_selected.remove(description)\n",
    "#         if b.new == True:\n",
    "#             codenames_selected.add(description)\n",
    "#         display_candidate_clues()\n",
    "    \n",
    "# for checkbox in checkboxes:\n",
    "#     checkbox.observe(changed)\n",
    "#     display(checkbox)\n",
    "\n",
    "# display(out)\n",
    "\n",
    "    \n"
   ]
  },
  {
   "cell_type": "markdown",
   "id": "1a04d60a-45fc-4e22-ba8e-d0dddf7cb4cf",
   "metadata": {},
   "source": [
    "# Calibrating Cosine Distance to Probability Transform"
   ]
  },
  {
   "cell_type": "code",
   "execution_count": 84,
   "id": "0e8c6fb0-f271-477a-b7d6-47321885da4c",
   "metadata": {},
   "outputs": [
    {
     "data": {
      "text/plain": [
       "<function IPython.core.display.display(*objs, include=None, exclude=None, metadata=None, transient=None, display_id=None, **kwargs)>"
      ]
     },
     "execution_count": 84,
     "metadata": {},
     "output_type": "execute_result"
    }
   ],
   "source": [
    "display()"
   ]
  },
  {
   "cell_type": "code",
   "execution_count": null,
   "id": "05b8036d-0432-4652-871a-bcdc6ab9e0d6",
   "metadata": {},
   "outputs": [],
   "source": [
    "# looking at cosine distances between words\n",
    "\n",
    "viz_similarities = list()\n",
    "prev_value = 0\n",
    "for cur_value in np.linspace(0, 1, 200):\n",
    "    distances = cos_stacked_distances[np.logical_and(cos_stacked_distances > prev_value, cos_stacked_distances < cur_value).values]\n",
    "    diff_lemma_distances = distances[[compare_codename_to_word(idx[0], idx[1]) for idx in distances.index]]\n",
    "    if diff_lemma_distances.shape[0] >= 1:\n",
    "        viz_distances = diff_lemma_distances.sample(1)\n",
    "        viz_similarities.append((prev_value, cur_value, viz_distances.index[0][0], viz_distances.index[0][1], viz_distances.values[0]))\n",
    "    prev_value = cur_value"
   ]
  },
  {
   "cell_type": "code",
   "execution_count": null,
   "id": "93e8d2c6-02b2-4259-bdb9-395ca87abe8b",
   "metadata": {
    "tags": []
   },
   "outputs": [],
   "source": [
    "pd_viz_sim = pd.DataFrame(viz_similarities, columns=[\"begin_bucket\", \"end_bucket\", \"codename\", \"word\", \"cos_dist\"])\n",
    "pd_viz_sim[\"prob\"] = transform_cos_distance(pd_viz_sim[\"cos_dist\"], a=14, b=22)\n",
    "\n",
    "for _, row in pd_viz_sim[[\"cos_dist\", \"prob\", \"codename\", \"word\"]].iterrows():\n",
    "    print(row.values)"
   ]
  },
  {
   "cell_type": "code",
   "execution_count": null,
   "id": "00a02cb4-25c6-448d-b574-6de437bc9f93",
   "metadata": {},
   "outputs": [],
   "source": [
    "x = np.linspace(0, 1, 500)\n",
    "y = transform_cos_distance(x, a=12, b=16)\n",
    "pd.DataFrame({\"x\": x, \"y\": y}).plot(x=\"x\", y=\"y\", kind=\"line\")"
   ]
  }
 ],
 "metadata": {
  "kernelspec": {
   "display_name": "Python 3 (ipykernel)",
   "language": "python",
   "name": "python3"
  },
  "language_info": {
   "codemirror_mode": {
    "name": "ipython",
    "version": 3
   },
   "file_extension": ".py",
   "mimetype": "text/x-python",
   "name": "python",
   "nbconvert_exporter": "python",
   "pygments_lexer": "ipython3",
   "version": "3.9.7"
  }
 },
 "nbformat": 4,
 "nbformat_minor": 5
}
